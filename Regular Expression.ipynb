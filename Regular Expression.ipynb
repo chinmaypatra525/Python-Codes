{
 "cells": [
  {
   "cell_type": "markdown",
   "metadata": {},
   "source": [
    "# Regular Expressions\n",
    "\n",
    "- Match Vs Search\n",
    "- Substitute substrings\n",
    "- Find all\n",
    "- Meta Vs Literal characters\n",
    "- Various identifiers\n",
    "- Back referencing example\n",
    "- Exercise"
   ]
  },
  {
   "cell_type": "code",
   "execution_count": 1,
   "metadata": {
    "ExecuteTime": {
     "end_time": "2020-03-14T05:38:25.134023Z",
     "start_time": "2020-03-14T05:38:25.129327Z"
    }
   },
   "outputs": [],
   "source": [
    "import re"
   ]
  },
  {
   "cell_type": "code",
   "execution_count": 2,
   "metadata": {
    "ExecuteTime": {
     "end_time": "2020-03-14T05:38:40.805822Z",
     "start_time": "2020-03-14T05:38:40.802715Z"
    }
   },
   "outputs": [],
   "source": [
    "a = \"This is RegularExp Topic\""
   ]
  },
  {
   "cell_type": "markdown",
   "metadata": {},
   "source": [
    "## match"
   ]
  },
  {
   "cell_type": "code",
   "execution_count": 3,
   "metadata": {
    "ExecuteTime": {
     "end_time": "2020-03-14T05:39:22.616870Z",
     "start_time": "2020-03-14T05:39:22.611874Z"
    }
   },
   "outputs": [],
   "source": [
    "mObj = re.match(\"RegularExp\",a)\n",
    "mObj"
   ]
  },
  {
   "cell_type": "code",
   "execution_count": 4,
   "metadata": {
    "ExecuteTime": {
     "end_time": "2020-03-14T05:40:04.740920Z",
     "start_time": "2020-03-14T05:40:04.722908Z"
    }
   },
   "outputs": [
    {
     "data": {
      "text/plain": [
       "<re.Match object; span=(0, 7), match='This is'>"
      ]
     },
     "execution_count": 4,
     "metadata": {},
     "output_type": "execute_result"
    }
   ],
   "source": [
    "mObj = re.match(\"This is\",a)\n",
    "mObj"
   ]
  },
  {
   "cell_type": "code",
   "execution_count": 5,
   "metadata": {
    "ExecuteTime": {
     "end_time": "2020-03-14T05:42:07.663412Z",
     "start_time": "2020-03-14T05:42:07.657621Z"
    }
   },
   "outputs": [
    {
     "name": "stdout",
     "output_type": "stream",
     "text": [
      "This is\n"
     ]
    }
   ],
   "source": [
    "mObj = re.match(\"This is\",a)\n",
    "if mObj:\n",
    "    print(mObj.group()) # will return full match group\n",
    "#     print(mObj.groups()) # will return tuple of matched groups\n",
    "#     print(mObj.group(1)) # will return grp number 1"
   ]
  },
  {
   "cell_type": "code",
   "execution_count": 6,
   "metadata": {
    "ExecuteTime": {
     "end_time": "2020-03-14T05:42:42.244872Z",
     "start_time": "2020-03-14T05:42:42.239345Z"
    }
   },
   "outputs": [
    {
     "name": "stdout",
     "output_type": "stream",
     "text": [
      "This is\n",
      "('This', 'is')\n",
      "is\n"
     ]
    }
   ],
   "source": [
    "mObj = re.match(\"(This) (is)\",a)\n",
    "if mObj:\n",
    "    print(mObj.group()) # will return full match group\n",
    "    print(mObj.groups()) # will return tuple of matched groups\n",
    "    print(mObj.group(2)) # will return grp number 1"
   ]
  },
  {
   "cell_type": "markdown",
   "metadata": {},
   "source": [
    "## Search"
   ]
  },
  {
   "cell_type": "code",
   "execution_count": 2,
   "metadata": {
    "ExecuteTime": {
     "end_time": "2020-03-14T05:38:40.805822Z",
     "start_time": "2020-03-14T05:38:40.802715Z"
    }
   },
   "outputs": [],
   "source": [
    "a = \"This is RegularExp class\""
   ]
  },
  {
   "cell_type": "code",
   "execution_count": 7,
   "metadata": {
    "ExecuteTime": {
     "end_time": "2020-03-14T05:44:18.157429Z",
     "start_time": "2020-03-14T05:44:18.151370Z"
    }
   },
   "outputs": [
    {
     "name": "stdout",
     "output_type": "stream",
     "text": [
      "<re.Match object; span=(8, 18), match='RegularExp'>\n",
      "RegularExp\n"
     ]
    }
   ],
   "source": [
    "sObj = re.search(\"RegularExp\",a)\n",
    "print(sObj)\n",
    "if sObj:\n",
    "    print(sObj.group())"
   ]
  },
  {
   "cell_type": "code",
   "execution_count": 10,
   "metadata": {
    "ExecuteTime": {
     "end_time": "2020-03-14T05:45:51.061146Z",
     "start_time": "2020-03-14T05:45:51.056644Z"
    }
   },
   "outputs": [],
   "source": [
    "a = \"This is RegularExp class8\""
   ]
  },
  {
   "cell_type": "code",
   "execution_count": 8,
   "metadata": {
    "ExecuteTime": {
     "end_time": "2020-03-14T05:48:40.431117Z",
     "start_time": "2020-03-14T05:48:40.424064Z"
    }
   },
   "outputs": [
    {
     "name": "stdout",
     "output_type": "stream",
     "text": [
      "<re.Match object; span=(8, 18), match='RegularExp'>\n",
      "RegularExp\n"
     ]
    }
   ],
   "source": [
    "sObj = re.search(\"RegularExp\",a,re.I) # re.I = ignore case\n",
    "print(sObj)\n",
    "if sObj:\n",
    "    print(sObj.group())"
   ]
  },
  {
   "cell_type": "code",
   "execution_count": 13,
   "metadata": {
    "ExecuteTime": {
     "end_time": "2020-03-14T05:48:40.431117Z",
     "start_time": "2020-03-14T05:48:40.424064Z"
    }
   },
   "outputs": [
    {
     "name": "stdout",
     "output_type": "stream",
     "text": [
      "<re.Match object; span=(8, 18), match='RegularExp'>\n",
      "RegularExp\n"
     ]
    }
   ],
   "source": [
    "sObj = re.search(\"RegularExp\",a,flags=re.I) # re.I = ignore case\n",
    "print(sObj)\n",
    "if sObj:\n",
    "    print(sObj.group())"
   ]
  },
  {
   "cell_type": "code",
   "execution_count": 21,
   "metadata": {
    "ExecuteTime": {
     "end_time": "2020-03-14T05:51:50.226207Z",
     "start_time": "2020-03-14T05:51:50.221204Z"
    }
   },
   "outputs": [],
   "source": [
    "a = \"This is Lear\\nbaY class8\""
   ]
  },
  {
   "cell_type": "code",
   "execution_count": 23,
   "metadata": {
    "ExecuteTime": {
     "end_time": "2020-03-14T05:52:17.043158Z",
     "start_time": "2020-03-14T05:52:17.037904Z"
    }
   },
   "outputs": [
    {
     "name": "stdout",
     "output_type": "stream",
     "text": [
      "Lear\n",
      "baY\n"
     ]
    }
   ],
   "source": [
    "sObj = re.search(\"Lear.bay\",a,re.S|re.I) # re.S = to include in in . family\n",
    "# print(sObj)\n",
    "if sObj:\n",
    "    print(sObj.group())"
   ]
  },
  {
   "cell_type": "code",
   "execution_count": null,
   "metadata": {},
   "outputs": [],
   "source": []
  },
  {
   "cell_type": "code",
   "execution_count": 26,
   "metadata": {
    "ExecuteTime": {
     "end_time": "2020-03-14T05:55:20.489349Z",
     "start_time": "2020-03-14T05:55:20.485349Z"
    }
   },
   "outputs": [],
   "source": [
    "a = \"djkfghsfg17856734#!$^@&*$\""
   ]
  },
  {
   "cell_type": "code",
   "execution_count": 27,
   "metadata": {
    "ExecuteTime": {
     "end_time": "2020-03-14T05:55:21.345317Z",
     "start_time": "2020-03-14T05:55:21.339258Z"
    }
   },
   "outputs": [
    {
     "name": "stdout",
     "output_type": "stream",
     "text": [
      "d\n"
     ]
    }
   ],
   "source": [
    "sObj = re.search(\"[a-zA-Z]\",a)\n",
    "if sObj:\n",
    "    print(sObj.group())"
   ]
  },
  {
   "cell_type": "code",
   "execution_count": 28,
   "metadata": {
    "ExecuteTime": {
     "end_time": "2020-03-14T05:56:51.474004Z",
     "start_time": "2020-03-14T05:56:51.466918Z"
    }
   },
   "outputs": [
    {
     "name": "stdout",
     "output_type": "stream",
     "text": [
      "djkfghsfg\n"
     ]
    }
   ],
   "source": [
    "sObj = re.search(\"[a-zA-Z]+\",a)\n",
    "if sObj:\n",
    "    print(sObj.group())"
   ]
  },
  {
   "cell_type": "code",
   "execution_count": 32,
   "metadata": {
    "ExecuteTime": {
     "end_time": "2020-03-14T05:59:29.159651Z",
     "start_time": "2020-03-14T05:59:29.153922Z"
    }
   },
   "outputs": [
    {
     "name": "stdout",
     "output_type": "stream",
     "text": [
      "djkfghsfg17856734#!$^@&*$\n",
      "('djkfghsfg', '17856734', '#!$^@&*$')\n"
     ]
    }
   ],
   "source": [
    "sObj = re.search(\"([a-zA-Z]+)([0-9]+)(\\W+)\",a)\n",
    "if sObj:\n",
    "    print(sObj.group())\n",
    "    print(sObj.groups())"
   ]
  },
  {
   "cell_type": "code",
   "execution_count": 34,
   "metadata": {
    "ExecuteTime": {
     "end_time": "2020-03-14T06:00:51.125447Z",
     "start_time": "2020-03-14T06:00:51.117963Z"
    }
   },
   "outputs": [
    {
     "name": "stdout",
     "output_type": "stream",
     "text": [
      "djkfghsfg17856734#!$^@&*$\n",
      "('djkfghsfg17856734', '#!$^@&*$')\n"
     ]
    }
   ],
   "source": [
    "sObj = re.search(\"(\\w+)(\\W+)\",a)\n",
    "if sObj:\n",
    "    print(sObj.group())\n",
    "    print(sObj.groups())"
   ]
  },
  {
   "cell_type": "code",
   "execution_count": null,
   "metadata": {},
   "outputs": [],
   "source": []
  },
  {
   "cell_type": "code",
   "execution_count": 35,
   "metadata": {
    "ExecuteTime": {
     "end_time": "2020-03-14T06:02:40.094821Z",
     "start_time": "2020-03-14T06:02:40.090261Z"
    }
   },
   "outputs": [],
   "source": [
    "a = \"skdjhfh sdfjsdf 23-12-1984 adfhh gsduf 8e4683756\""
   ]
  },
  {
   "cell_type": "code",
   "execution_count": 36,
   "metadata": {
    "ExecuteTime": {
     "end_time": "2020-03-14T06:02:41.164548Z",
     "start_time": "2020-03-14T06:02:41.158199Z"
    }
   },
   "outputs": [
    {
     "name": "stdout",
     "output_type": "stream",
     "text": [
      "23-12-1984\n",
      "()\n"
     ]
    }
   ],
   "source": [
    "sObj = re.search(\"[0-9][0-9]-[0-9][0-9]-[0-9][0-9][0-9][0-9]\",a)\n",
    "if sObj:\n",
    "    print(sObj.group())\n",
    "    print(sObj.groups())"
   ]
  },
  {
   "cell_type": "code",
   "execution_count": 37,
   "metadata": {
    "ExecuteTime": {
     "end_time": "2020-03-14T06:03:19.920725Z",
     "start_time": "2020-03-14T06:03:19.913974Z"
    }
   },
   "outputs": [
    {
     "name": "stdout",
     "output_type": "stream",
     "text": [
      "23-12-1984\n",
      "()\n"
     ]
    }
   ],
   "source": [
    "sObj = re.search(\"\\d{2}-\\d{2}-\\d{4}\",a)\n",
    "if sObj:\n",
    "    print(sObj.group())\n",
    "    print(sObj.groups())"
   ]
  },
  {
   "cell_type": "code",
   "execution_count": 38,
   "metadata": {
    "ExecuteTime": {
     "end_time": "2020-03-14T06:03:39.452471Z",
     "start_time": "2020-03-14T06:03:39.445258Z"
    }
   },
   "outputs": [
    {
     "name": "stdout",
     "output_type": "stream",
     "text": [
      "23-12-1984\n",
      "('12-',)\n"
     ]
    }
   ],
   "source": [
    "sObj = re.search(\"(\\d{2}-){2}\\d{4}\",a)\n",
    "if sObj:\n",
    "    print(sObj.group())\n",
    "    print(sObj.groups())"
   ]
  },
  {
   "cell_type": "code",
   "execution_count": 39,
   "metadata": {
    "ExecuteTime": {
     "end_time": "2020-03-14T06:04:49.143079Z",
     "start_time": "2020-03-14T06:04:49.134938Z"
    }
   },
   "outputs": [
    {
     "name": "stdout",
     "output_type": "stream",
     "text": [
      "skdjhfh sdfjsdf 23-12-1984 adfhh gsduf 8e4683756\n",
      "('skdjhfh sdfjsdf ', '12-', ' adfhh gsduf 8e4683756')\n"
     ]
    }
   ],
   "source": [
    "sObj = re.search(\"(.*)(\\d{2}-){2}\\d{4}(.*)\",a)\n",
    "if sObj:\n",
    "    print(sObj.group())\n",
    "    print(sObj.groups())"
   ]
  },
  {
   "cell_type": "code",
   "execution_count": null,
   "metadata": {},
   "outputs": [],
   "source": []
  },
  {
   "cell_type": "code",
   "execution_count": null,
   "metadata": {},
   "outputs": [],
   "source": []
  },
  {
   "cell_type": "code",
   "execution_count": 47,
   "metadata": {
    "ExecuteTime": {
     "end_time": "2020-03-14T06:12:46.284225Z",
     "start_time": "2020-03-14T06:12:46.279702Z"
    }
   },
   "outputs": [],
   "source": [
    "a = \"skdjhfh sdfjsdf 23-12-1984 adfhh gsduf 8e4683756\""
   ]
  },
  {
   "cell_type": "code",
   "execution_count": 40,
   "metadata": {
    "ExecuteTime": {
     "end_time": "2020-03-14T06:07:17.641269Z",
     "start_time": "2020-03-14T06:07:17.635265Z"
    }
   },
   "outputs": [
    {
     "name": "stdout",
     "output_type": "stream",
     "text": [
      "8e4683756\n",
      "()\n"
     ]
    }
   ],
   "source": [
    "sObj = re.search(\"\\d[a-z]+\\d+\",a)\n",
    "if sObj:\n",
    "    print(sObj.group())\n",
    "    print(sObj.groups())"
   ]
  },
  {
   "cell_type": "code",
   "execution_count": 48,
   "metadata": {
    "ExecuteTime": {
     "end_time": "2020-03-14T06:12:47.380666Z",
     "start_time": "2020-03-14T06:12:47.374660Z"
    }
   },
   "outputs": [
    {
     "name": "stdout",
     "output_type": "stream",
     "text": [
      "skdjhfh sdfjsdf 23-12-1984 adfhh\n",
      "('skdjhfh', 'sdfjsdf', 'adfhh')\n"
     ]
    }
   ],
   "source": [
    "sObj = re.search(\"([a-z]+).([a-z]+).*?([a-z]+)\",a)\n",
    "if sObj:\n",
    "    print(sObj.group())\n",
    "    print(sObj.groups())"
   ]
  },
  {
   "cell_type": "code",
   "execution_count": 49,
   "metadata": {
    "ExecuteTime": {
     "end_time": "2020-03-14T06:14:51.088848Z",
     "start_time": "2020-03-14T06:14:51.080466Z"
    }
   },
   "outputs": [
    {
     "name": "stdout",
     "output_type": "stream",
     "text": [
      "skdjhfh sdfjsdf 23-12-1984 adfhh gsduf 8e4683756\n",
      "('skdjhfh', 'sdfjsdf')\n"
     ]
    }
   ],
   "source": [
    "sObj = re.search(\"([a-z]+).([a-z]+).*\",a)\n",
    "if sObj:\n",
    "    print(sObj.group())\n",
    "    print(sObj.groups())"
   ]
  },
  {
   "cell_type": "markdown",
   "metadata": {},
   "source": [
    "## options in grouping"
   ]
  },
  {
   "cell_type": "code",
   "execution_count": 54,
   "metadata": {
    "ExecuteTime": {
     "end_time": "2020-03-14T06:19:08.328003Z",
     "start_time": "2020-03-14T06:19:08.324000Z"
    }
   },
   "outputs": [],
   "source": [
    "a = \"rat is running\""
   ]
  },
  {
   "cell_type": "code",
   "execution_count": 53,
   "metadata": {
    "ExecuteTime": {
     "end_time": "2020-03-14T06:19:05.854801Z",
     "start_time": "2020-03-14T06:19:05.848264Z"
    }
   },
   "outputs": [
    {
     "name": "stdout",
     "output_type": "stream",
     "text": [
      "cat\n",
      "('cat',)\n"
     ]
    }
   ],
   "source": [
    "sObj = re.search(\"(cat|bat|rat)\",a)\n",
    "if sObj:\n",
    "    print(sObj.group())\n",
    "    print(sObj.groups())"
   ]
  },
  {
   "cell_type": "markdown",
   "metadata": {},
   "source": [
    "## Back referencing"
   ]
  },
  {
   "cell_type": "code",
   "execution_count": 56,
   "metadata": {
    "ExecuteTime": {
     "end_time": "2020-03-14T06:20:24.802879Z",
     "start_time": "2020-03-14T06:20:24.798239Z"
    }
   },
   "outputs": [],
   "source": [
    "a = \"111 222 111 111 333 222 111 \""
   ]
  },
  {
   "cell_type": "code",
   "execution_count": 61,
   "metadata": {
    "ExecuteTime": {
     "end_time": "2020-03-14T06:21:33.433202Z",
     "start_time": "2020-03-14T06:21:33.428373Z"
    }
   },
   "outputs": [
    {
     "name": "stdout",
     "output_type": "stream",
     "text": [
      "111 222 111 111 \n"
     ]
    }
   ],
   "source": [
    "sObj = re.search(\"111 222 111 111 \",a)\n",
    "if sObj:\n",
    "    print(sObj.group())"
   ]
  },
  {
   "cell_type": "markdown",
   "metadata": {
    "ExecuteTime": {
     "end_time": "2020-03-14T06:21:41.471919Z",
     "start_time": "2020-03-14T06:21:41.464919Z"
    }
   },
   "source": [
    "### using back referencing"
   ]
  },
  {
   "cell_type": "code",
   "execution_count": 75,
   "metadata": {
    "ExecuteTime": {
     "end_time": "2020-03-14T06:26:45.776209Z",
     "start_time": "2020-03-14T06:26:45.770877Z"
    }
   },
   "outputs": [
    {
     "name": "stdout",
     "output_type": "stream",
     "text": [
      "111 222 111 111 333 222 111 \n"
     ]
    }
   ],
   "source": [
    "sObj = re.search(r\"(111 )(222 )(\\1)(\\1)333 \\2\\4\",a)\n",
    "if sObj:\n",
    "    print(sObj.group())"
   ]
  },
  {
   "cell_type": "code",
   "execution_count": 81,
   "metadata": {
    "ExecuteTime": {
     "end_time": "2020-03-14T06:28:22.531491Z",
     "start_time": "2020-03-14T06:28:22.527720Z"
    }
   },
   "outputs": [
    {
     "name": "stdout",
     "output_type": "stream",
     "text": [
      "111 222 111 111 333 222 111 \n"
     ]
    }
   ],
   "source": [
    "sObj = re.search(r\"(111 )(222 \\1)(\\1)333 \\2\",a)\n",
    "if sObj:\n",
    "    print(sObj.group())"
   ]
  },
  {
   "cell_type": "markdown",
   "metadata": {},
   "source": [
    "## Findall"
   ]
  },
  {
   "cell_type": "code",
   "execution_count": 19,
   "metadata": {
    "ExecuteTime": {
     "end_time": "2020-03-14T06:30:03.766395Z",
     "start_time": "2020-03-14T06:30:03.761864Z"
    }
   },
   "outputs": [],
   "source": [
    "a = \"This is RegularExp Regularexp RegularEXp RegularEXP RegularExp\""
   ]
  },
  {
   "cell_type": "code",
   "execution_count": 20,
   "metadata": {
    "ExecuteTime": {
     "end_time": "2020-03-14T06:30:34.741405Z",
     "start_time": "2020-03-14T06:30:34.735920Z"
    }
   },
   "outputs": [
    {
     "data": {
      "text/plain": [
       "['RegularExp', 'RegularExp']"
      ]
     },
     "execution_count": 20,
     "metadata": {},
     "output_type": "execute_result"
    }
   ],
   "source": [
    "re.findall(\"RegularExp\",a)"
   ]
  },
  {
   "cell_type": "code",
   "execution_count": 22,
   "metadata": {
    "ExecuteTime": {
     "end_time": "2020-03-14T06:30:47.676771Z",
     "start_time": "2020-03-14T06:30:47.670134Z"
    }
   },
   "outputs": [
    {
     "data": {
      "text/plain": [
       "['RegularExp', 'Regularexp', 'RegularEXp', 'RegularEXP', 'RegularExp']"
      ]
     },
     "execution_count": 22,
     "metadata": {},
     "output_type": "execute_result"
    }
   ],
   "source": [
    "re.findall(\"RegularExp\",a,flags=re.I)"
   ]
  },
  {
   "cell_type": "code",
   "execution_count": 23,
   "metadata": {
    "ExecuteTime": {
     "end_time": "2020-03-14T06:31:00.890882Z",
     "start_time": "2020-03-14T06:31:00.881353Z"
    }
   },
   "outputs": [
    {
     "data": {
      "text/plain": [
       "5"
      ]
     },
     "execution_count": 23,
     "metadata": {},
     "output_type": "execute_result"
    }
   ],
   "source": [
    "len(re.findall(\"RegularExp\",a,flags=re.I))"
   ]
  },
  {
   "cell_type": "markdown",
   "metadata": {},
   "source": [
    "## Substitute"
   ]
  },
  {
   "cell_type": "code",
   "execution_count": 24,
   "metadata": {
    "ExecuteTime": {
     "end_time": "2020-03-14T06:35:56.157623Z",
     "start_time": "2020-03-14T06:35:56.153526Z"
    }
   },
   "outputs": [],
   "source": [
    "a = \"This is RegularExp Regularexp RegularEXp RegularEXP RegularExp\""
   ]
  },
  {
   "cell_type": "code",
   "execution_count": 25,
   "metadata": {
    "ExecuteTime": {
     "end_time": "2020-03-14T06:31:57.562475Z",
     "start_time": "2020-03-14T06:31:57.555267Z"
    }
   },
   "outputs": [
    {
     "data": {
      "text/plain": [
       "'This is RE Regularexp RegularEXp RegularEXP RE'"
      ]
     },
     "execution_count": 25,
     "metadata": {},
     "output_type": "execute_result"
    }
   ],
   "source": [
    "re.sub(\"RegularExp\",\"RE\",a)"
   ]
  },
  {
   "cell_type": "code",
   "execution_count": 26,
   "metadata": {
    "ExecuteTime": {
     "end_time": "2020-03-14T06:32:15.428549Z",
     "start_time": "2020-03-14T06:32:15.421426Z"
    }
   },
   "outputs": [
    {
     "data": {
      "text/plain": [
       "'This is RE RE RE RE RE'"
      ]
     },
     "execution_count": 26,
     "metadata": {},
     "output_type": "execute_result"
    }
   ],
   "source": [
    "re.sub(\"RegularExp\",\"RE\",a,flags=re.I)"
   ]
  },
  {
   "cell_type": "code",
   "execution_count": 27,
   "metadata": {
    "ExecuteTime": {
     "end_time": "2020-03-14T06:32:26.362584Z",
     "start_time": "2020-03-14T06:32:26.355514Z"
    }
   },
   "outputs": [
    {
     "data": {
      "text/plain": [
       "'This is RE RE RegularEXp RegularEXP RegularExp'"
      ]
     },
     "execution_count": 27,
     "metadata": {},
     "output_type": "execute_result"
    }
   ],
   "source": [
    "re.sub(\"RegularExp\",\"RE\",a,flags=re.I,count=2) # to replace only 2st two instances"
   ]
  },
  {
   "cell_type": "code",
   "execution_count": 117,
   "metadata": {
    "ExecuteTime": {
     "end_time": "2020-03-14T07:15:38.087662Z",
     "start_time": "2020-03-14T07:15:38.078583Z"
    }
   },
   "outputs": [
    {
     "data": {
      "text/plain": [
       "'This is Learnbay LeArNbay LB LB sdgs  sfgdjk fg'"
      ]
     },
     "execution_count": 117,
     "metadata": {},
     "output_type": "execute_result"
    }
   ],
   "source": [
    "a = \"This is Learnbay LeArNbay LeaRNbay LearnBAy sdgs  sfgdjk fg\"\n",
    "op = a.split(\" \")\n",
    "new = []\n",
    "cnt = 1\n",
    "for i in op[::-1]:\n",
    "    if i.lower() == \"learnbay\" and cnt <3:\n",
    "        new.append(re.sub(\"learnbay\",\"LB\",i,flags=re.I)) # or new.append(\"LB\")\n",
    "        cnt +=1\n",
    "    else:\n",
    "        new.append(i)\n",
    "\" \".join(new[::-1])"
   ]
  }
 ],
 "metadata": {
  "kernelspec": {
   "display_name": "Python 3",
   "language": "python",
   "name": "python3"
  },
  "language_info": {
   "codemirror_mode": {
    "name": "ipython",
    "version": 3
   },
   "file_extension": ".py",
   "mimetype": "text/x-python",
   "name": "python",
   "nbconvert_exporter": "python",
   "pygments_lexer": "ipython3",
   "version": "3.7.6"
  },
  "latex_envs": {
   "LaTeX_envs_menu_present": true,
   "autoclose": false,
   "autocomplete": true,
   "bibliofile": "biblio.bib",
   "cite_by": "apalike",
   "current_citInitial": 1,
   "eqLabelWithNumbers": true,
   "eqNumInitial": 1,
   "hotkeys": {
    "equation": "Ctrl-E",
    "itemize": "Ctrl-I"
   },
   "labels_anchors": false,
   "latex_user_defs": false,
   "report_style_numbering": false,
   "user_envs_cfg": false
  },
  "toc": {
   "base_numbering": 1,
   "nav_menu": {},
   "number_sections": true,
   "sideBar": true,
   "skip_h1_title": false,
   "title_cell": "Table of Contents",
   "title_sidebar": "Contents",
   "toc_cell": false,
   "toc_position": {},
   "toc_section_display": true,
   "toc_window_display": false
  },
  "varInspector": {
   "cols": {
    "lenName": 16,
    "lenType": 16,
    "lenVar": 40
   },
   "kernels_config": {
    "python": {
     "delete_cmd_postfix": "",
     "delete_cmd_prefix": "del ",
     "library": "var_list.py",
     "varRefreshCmd": "print(var_dic_list())"
    },
    "r": {
     "delete_cmd_postfix": ") ",
     "delete_cmd_prefix": "rm(",
     "library": "var_list.r",
     "varRefreshCmd": "cat(var_dic_list()) "
    }
   },
   "types_to_exclude": [
    "module",
    "function",
    "builtin_function_or_method",
    "instance",
    "_Feature"
   ],
   "window_display": false
  }
 },
 "nbformat": 4,
 "nbformat_minor": 2
}
