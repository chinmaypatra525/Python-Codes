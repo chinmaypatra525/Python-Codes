{
 "cells": [
  {
   "cell_type": "markdown",
   "metadata": {},
   "source": [
    "# File I/O\n",
    "\n",
    "- Opening file using various modes\n",
    "- Read/Write operations on file\n",
    "- Tell and Seek operations\n",
    "- Some OS related operations\n",
    "- Exercise"
   ]
  },
  {
   "cell_type": "code",
   "execution_count": null,
   "metadata": {},
   "outputs": [],
   "source": [
    "# Syntax:\n",
    "# open(<file_name>,<mode>,<encoding>)\n",
    "# file_name: with path if file is existing in some different location, else just file name if it is present in root dir\n",
    "# mode:\n",
    "#     r: read only, file must be present, This is by default.\n",
    "#     w: write only, file will be created \n",
    "#     a: append only, file will be created\n",
    "#     r+,w+,a+,rb,wb,ab,rb+,wb+,ab+\n",
    "# encoding: optional, if special characters are available in file then find the right encoding and use it. utf-8,latin1,cp1252 etc."
   ]
  },
  {
   "cell_type": "code",
   "execution_count": null,
   "metadata": {},
   "outputs": [],
   "source": [
    "# fh = open(\"test1.txt\")\n",
    "# fh = open(\"test1.txt\",\"r\")\n",
    "# fh = open(\"./test1.txt\")\n",
    "# fh = open(r\"D:\\A_From_Desktop\\Py_Test_Program\\14_March\\test1.txt\")\n",
    "# fh = open(\"D:\\\\A_From_Desktop\\\\Py_Test_Program\\\\14_March\\\\test1.txt\")"
   ]
  },
  {
   "cell_type": "code",
   "execution_count": 1,
   "metadata": {
    "ExecuteTime": {
     "end_time": "2020-03-14T03:55:54.152280Z",
     "start_time": "2020-03-14T03:55:54.130520Z"
    }
   },
   "outputs": [
    {
     "data": {
      "text/plain": [
       "<_io.TextIOWrapper name='test1.txt' mode='r' encoding='cp1252'>"
      ]
     },
     "execution_count": 1,
     "metadata": {},
     "output_type": "execute_result"
    }
   ],
   "source": [
    "fh = open(\"test1.txt\")\n",
    "fh"
   ]
  },
  {
   "cell_type": "code",
   "execution_count": 9,
   "metadata": {
    "ExecuteTime": {
     "end_time": "2020-03-14T04:01:57.935683Z",
     "start_time": "2020-03-14T04:01:57.927638Z"
    }
   },
   "outputs": [
    {
     "data": {
      "text/plain": [
       "['This is Line1\\n',\n",
       " 'This is Line2\\n',\n",
       " 'This is Line3\\n',\n",
       " 'This is Line4\\n',\n",
       " 'This is Line5']"
      ]
     },
     "execution_count": 9,
     "metadata": {},
     "output_type": "execute_result"
    }
   ],
   "source": [
    "fh = open(\"test1.txt\")\n",
    "# print(fh.read()) # will read whole content in one go\n",
    "# fh.read(4) # will read n bytes in one go\n",
    "# fh.readline() # will read one line at a time\n",
    "fh.readlines() # will read all lines in one go and return the list of lines\n"
   ]
  },
  {
   "cell_type": "code",
   "execution_count": 12,
   "metadata": {
    "ExecuteTime": {
     "end_time": "2020-03-14T04:04:11.746699Z",
     "start_time": "2020-03-14T04:04:11.741558Z"
    }
   },
   "outputs": [],
   "source": [
    "fh = open(\"test1.txt\")"
   ]
  },
  {
   "cell_type": "code",
   "execution_count": 22,
   "metadata": {
    "ExecuteTime": {
     "end_time": "2020-03-14T04:04:29.900780Z",
     "start_time": "2020-03-14T04:04:29.894154Z"
    }
   },
   "outputs": [
    {
     "data": {
      "text/plain": [
       "'Line'"
      ]
     },
     "execution_count": 22,
     "metadata": {},
     "output_type": "execute_result"
    }
   ],
   "source": [
    "fh.read(4) # will read n bytes in one go"
   ]
  },
  {
   "cell_type": "code",
   "execution_count": 4,
   "metadata": {
    "ExecuteTime": {
     "end_time": "2020-03-14T03:57:46.126432Z",
     "start_time": "2020-03-14T03:57:46.122432Z"
    }
   },
   "outputs": [],
   "source": [
    "# !dir"
   ]
  },
  {
   "cell_type": "code",
   "execution_count": 32,
   "metadata": {
    "ExecuteTime": {
     "end_time": "2020-03-14T04:16:09.522848Z",
     "start_time": "2020-03-14T04:16:09.517134Z"
    }
   },
   "outputs": [],
   "source": [
    "fh = open(\"test1.txt\")"
   ]
  },
  {
   "cell_type": "code",
   "execution_count": 33,
   "metadata": {
    "ExecuteTime": {
     "end_time": "2020-03-14T04:16:38.735105Z",
     "start_time": "2020-03-14T04:16:38.731132Z"
    }
   },
   "outputs": [
    {
     "name": "stdout",
     "output_type": "stream",
     "text": [
      "This \n",
      "is Line1\n",
      "\n"
     ]
    }
   ],
   "source": [
    "print(fh.readline(5))\n",
    "print(fh.readline())"
   ]
  },
  {
   "cell_type": "markdown",
   "metadata": {},
   "source": [
    "## Tell and Seek function"
   ]
  },
  {
   "cell_type": "code",
   "execution_count": null,
   "metadata": {},
   "outputs": [],
   "source": [
    "# tell : will tell the current pointer position"
   ]
  },
  {
   "cell_type": "code",
   "execution_count": 25,
   "metadata": {
    "ExecuteTime": {
     "end_time": "2020-03-14T04:12:19.074377Z",
     "start_time": "2020-03-14T04:12:19.064797Z"
    }
   },
   "outputs": [],
   "source": [
    "fh = open(\"test1.txt\")"
   ]
  },
  {
   "cell_type": "code",
   "execution_count": 26,
   "metadata": {
    "ExecuteTime": {
     "end_time": "2020-03-14T04:12:19.661895Z",
     "start_time": "2020-03-14T04:12:19.654892Z"
    }
   },
   "outputs": [
    {
     "name": "stdout",
     "output_type": "stream",
     "text": [
      "This\n",
      "4\n",
      " is\n",
      "7\n"
     ]
    }
   ],
   "source": [
    "print(fh.read(4))\n",
    "print(fh.tell())\n",
    "print(fh.read(3))\n",
    "print(fh.tell())"
   ]
  },
  {
   "cell_type": "code",
   "execution_count": 27,
   "metadata": {
    "ExecuteTime": {
     "end_time": "2020-03-14T04:13:21.286742Z",
     "start_time": "2020-03-14T04:13:21.282742Z"
    }
   },
   "outputs": [],
   "source": [
    "fh = open(\"test1.txt\")"
   ]
  },
  {
   "cell_type": "code",
   "execution_count": 28,
   "metadata": {
    "ExecuteTime": {
     "end_time": "2020-03-14T04:13:30.612871Z",
     "start_time": "2020-03-14T04:13:30.607250Z"
    }
   },
   "outputs": [
    {
     "name": "stdout",
     "output_type": "stream",
     "text": [
      "This is Line1\n",
      "\n",
      "14\n",
      "This is Line2\n",
      "\n",
      "28\n"
     ]
    }
   ],
   "source": [
    "print(fh.readline())\n",
    "print(fh.tell())\n",
    "print(fh.readline())\n",
    "print(fh.tell())"
   ]
  },
  {
   "cell_type": "code",
   "execution_count": 30,
   "metadata": {
    "ExecuteTime": {
     "end_time": "2020-03-14T04:14:33.199002Z",
     "start_time": "2020-03-14T04:14:33.194002Z"
    }
   },
   "outputs": [],
   "source": [
    "fh = open(\"test1.txt\")"
   ]
  },
  {
   "cell_type": "code",
   "execution_count": 31,
   "metadata": {
    "ExecuteTime": {
     "end_time": "2020-03-14T04:14:34.034158Z",
     "start_time": "2020-03-14T04:14:34.029158Z"
    }
   },
   "outputs": [
    {
     "name": "stdout",
     "output_type": "stream",
     "text": [
      "This is Line1\n",
      "This is Line2\n",
      "This is Line3\n",
      "This is Line4\n",
      "This is Line5\n",
      "69\n"
     ]
    }
   ],
   "source": [
    "print(fh.read())\n",
    "print(fh.tell())"
   ]
  },
  {
   "cell_type": "code",
   "execution_count": 34,
   "metadata": {
    "ExecuteTime": {
     "end_time": "2020-03-14T04:25:26.989297Z",
     "start_time": "2020-03-14T04:25:26.985294Z"
    }
   },
   "outputs": [],
   "source": [
    "# Seek\n",
    "# syntax:\n",
    "# seek(<offset>,<pointer_position>)\n",
    "# offset:some +/-number based on position, how many characters to be skipped\n",
    "# pointer_position: \n",
    "#     0: default, go to start of the file\n",
    "#     1: from current position\n",
    "#     2: from end of file"
   ]
  },
  {
   "cell_type": "code",
   "execution_count": 41,
   "metadata": {
    "ExecuteTime": {
     "end_time": "2020-03-14T04:27:35.384646Z",
     "start_time": "2020-03-14T04:27:35.377358Z"
    }
   },
   "outputs": [],
   "source": [
    "fh = open(\"test1.txt\")"
   ]
  },
  {
   "cell_type": "code",
   "execution_count": 37,
   "metadata": {
    "ExecuteTime": {
     "end_time": "2020-03-14T04:26:50.454365Z",
     "start_time": "2020-03-14T04:26:50.449348Z"
    }
   },
   "outputs": [],
   "source": [
    "# seek() with default"
   ]
  },
  {
   "cell_type": "code",
   "execution_count": 42,
   "metadata": {
    "ExecuteTime": {
     "end_time": "2020-03-14T04:27:36.131184Z",
     "start_time": "2020-03-14T04:27:36.123306Z"
    }
   },
   "outputs": [
    {
     "name": "stdout",
     "output_type": "stream",
     "text": [
      "This i\n",
      "Th\n"
     ]
    }
   ],
   "source": [
    "print(fh.read(6))\n",
    "fh.seek(0)\n",
    "print(fh.read(2))"
   ]
  },
  {
   "cell_type": "code",
   "execution_count": 37,
   "metadata": {
    "ExecuteTime": {
     "end_time": "2020-03-14T04:26:50.454365Z",
     "start_time": "2020-03-14T04:26:50.449348Z"
    }
   },
   "outputs": [],
   "source": [
    "# seek() with some offset"
   ]
  },
  {
   "cell_type": "code",
   "execution_count": 43,
   "metadata": {
    "ExecuteTime": {
     "end_time": "2020-03-14T04:28:28.188113Z",
     "start_time": "2020-03-14T04:28:28.184090Z"
    }
   },
   "outputs": [],
   "source": [
    "fh = open(\"test1.txt\")"
   ]
  },
  {
   "cell_type": "code",
   "execution_count": 44,
   "metadata": {
    "ExecuteTime": {
     "end_time": "2020-03-14T04:29:13.621477Z",
     "start_time": "2020-03-14T04:29:13.617126Z"
    }
   },
   "outputs": [
    {
     "name": "stdout",
     "output_type": "stream",
     "text": [
      "This i\n",
      "is\n"
     ]
    }
   ],
   "source": [
    "print(fh.read(6))\n",
    "fh.seek(2)\n",
    "print(fh.read(2))"
   ]
  },
  {
   "cell_type": "code",
   "execution_count": 45,
   "metadata": {
    "ExecuteTime": {
     "end_time": "2020-03-14T04:32:08.650364Z",
     "start_time": "2020-03-14T04:32:08.646184Z"
    }
   },
   "outputs": [],
   "source": [
    "# seek() with some offset and pointer position"
   ]
  },
  {
   "cell_type": "code",
   "execution_count": 49,
   "metadata": {
    "ExecuteTime": {
     "end_time": "2020-03-14T04:33:53.763360Z",
     "start_time": "2020-03-14T04:33:53.755806Z"
    }
   },
   "outputs": [],
   "source": [
    "fh = open(\"test1.txt\",\"rb\")"
   ]
  },
  {
   "cell_type": "code",
   "execution_count": 50,
   "metadata": {
    "ExecuteTime": {
     "end_time": "2020-03-14T04:33:54.500425Z",
     "start_time": "2020-03-14T04:33:54.494630Z"
    }
   },
   "outputs": [
    {
     "name": "stdout",
     "output_type": "stream",
     "text": [
      "b'This i'\n",
      "b'in'\n"
     ]
    }
   ],
   "source": [
    "print(fh.read(6))\n",
    "fh.seek(3,1)\n",
    "print(fh.read(2))"
   ]
  },
  {
   "cell_type": "code",
   "execution_count": 54,
   "metadata": {
    "ExecuteTime": {
     "end_time": "2020-03-14T04:35:39.740938Z",
     "start_time": "2020-03-14T04:35:39.735753Z"
    }
   },
   "outputs": [],
   "source": [
    "fh = open(\"test1.txt\",\"rb\")"
   ]
  },
  {
   "cell_type": "code",
   "execution_count": 55,
   "metadata": {
    "ExecuteTime": {
     "end_time": "2020-03-14T04:35:40.397173Z",
     "start_time": "2020-03-14T04:35:40.389639Z"
    }
   },
   "outputs": [
    {
     "name": "stdout",
     "output_type": "stream",
     "text": [
      "b'This i'\n",
      "b'is'\n"
     ]
    }
   ],
   "source": [
    "print(fh.read(6))\n",
    "fh.seek(-4,1)\n",
    "print(fh.read(2))"
   ]
  },
  {
   "cell_type": "code",
   "execution_count": 56,
   "metadata": {
    "ExecuteTime": {
     "end_time": "2020-03-14T04:37:48.872719Z",
     "start_time": "2020-03-14T04:37:48.869187Z"
    }
   },
   "outputs": [],
   "source": [
    "# seek() with pointer position 2"
   ]
  },
  {
   "cell_type": "code",
   "execution_count": 60,
   "metadata": {
    "ExecuteTime": {
     "end_time": "2020-03-14T04:38:48.158381Z",
     "start_time": "2020-03-14T04:38:48.153513Z"
    }
   },
   "outputs": [],
   "source": [
    "fh = open(\"test1.txt\",\"rb\")"
   ]
  },
  {
   "cell_type": "code",
   "execution_count": 61,
   "metadata": {
    "ExecuteTime": {
     "end_time": "2020-03-14T04:38:48.814583Z",
     "start_time": "2020-03-14T04:38:48.806835Z"
    }
   },
   "outputs": [
    {
     "name": "stdout",
     "output_type": "stream",
     "text": [
      "b'This is Line1\\nThis is Line2\\nThis is Line3\\nThis is Line4\\nThis is Line5'\n",
      "b'is'\n"
     ]
    }
   ],
   "source": [
    "print(fh.read())\n",
    "fh.seek(-8,2)\n",
    "print(fh.read(2))"
   ]
  },
  {
   "cell_type": "markdown",
   "metadata": {},
   "source": [
    "## Write to file"
   ]
  },
  {
   "cell_type": "code",
   "execution_count": 66,
   "metadata": {
    "ExecuteTime": {
     "end_time": "2020-03-14T04:42:24.341513Z",
     "start_time": "2020-03-14T04:42:24.329612Z"
    }
   },
   "outputs": [],
   "source": [
    "fh = open(\"test2.txt\",\"w\")\n",
    "fh.write(\"This is write1\\n\")\n",
    "fh.write(\"This is write2\\n\")\n",
    "fh.write(\"This is write3\")\n",
    "fh.close()"
   ]
  },
  {
   "cell_type": "markdown",
   "metadata": {},
   "source": [
    "## Append to file"
   ]
  },
  {
   "cell_type": "code",
   "execution_count": 68,
   "metadata": {
    "ExecuteTime": {
     "end_time": "2020-03-14T04:46:07.799952Z",
     "start_time": "2020-03-14T04:46:07.790482Z"
    }
   },
   "outputs": [],
   "source": [
    "fh = open(\"test2.txt\",\"a\")\n",
    "fh.write(\"This is write4\\n\")\n",
    "fh.write(\"This is write5\\n\")\n",
    "fh.write(\"This is write6\")\n",
    "fh.close()"
   ]
  },
  {
   "cell_type": "markdown",
   "metadata": {},
   "source": [
    "## Creating csv file"
   ]
  },
  {
   "cell_type": "code",
   "execution_count": 67,
   "metadata": {
    "ExecuteTime": {
     "end_time": "2020-03-14T04:44:20.443484Z",
     "start_time": "2020-03-14T04:44:20.431848Z"
    }
   },
   "outputs": [],
   "source": [
    "fh = open(\"test3.csv\",\"w\")\n",
    "fh.write(\"A,B,C\\n\")\n",
    "fh.write(\"1,2,3\\n\")\n",
    "fh.write(\"4,5,6\\n\")\n",
    "fh.write(\"7,8,9\\n\")\n",
    "fh.close()"
   ]
  },
  {
   "cell_type": "markdown",
   "metadata": {},
   "source": [
    "## Using with statement"
   ]
  },
  {
   "cell_type": "code",
   "execution_count": 69,
   "metadata": {
    "ExecuteTime": {
     "end_time": "2020-03-14T04:48:20.633561Z",
     "start_time": "2020-03-14T04:48:20.621226Z"
    }
   },
   "outputs": [
    {
     "name": "stdout",
     "output_type": "stream",
     "text": [
      "False\n",
      "True\n"
     ]
    }
   ],
   "source": [
    "with open(\"test4.txt\", \"w\") as fh:\n",
    "    fh.write(\"This is using with\")\n",
    "    print(fh.closed) # tio check file is closed or not\n",
    "print(fh.closed)"
   ]
  },
  {
   "cell_type": "markdown",
   "metadata": {},
   "source": [
    "## Iterating over file"
   ]
  },
  {
   "cell_type": "code",
   "execution_count": 70,
   "metadata": {
    "ExecuteTime": {
     "end_time": "2020-03-14T04:51:01.747952Z",
     "start_time": "2020-03-14T04:51:01.738041Z"
    }
   },
   "outputs": [
    {
     "name": "stdout",
     "output_type": "stream",
     "text": [
      "This is write1\n",
      "\n",
      "This is write2\n",
      "\n",
      "This is write3This is write4\n",
      "\n",
      "This is write5\n",
      "\n",
      "This is write6\n"
     ]
    }
   ],
   "source": [
    "fh = open(\"test2.txt\")\n",
    "for line in fh:\n",
    "    print(line)"
   ]
  },
  {
   "cell_type": "markdown",
   "metadata": {},
   "source": [
    "###### Open the file and print only non-empty lines, later print only those lines which is ending with even numbers"
   ]
  },
  {
   "cell_type": "code",
   "execution_count": 74,
   "metadata": {
    "ExecuteTime": {
     "end_time": "2020-03-14T05:03:54.211387Z",
     "start_time": "2020-03-14T05:03:54.201303Z"
    }
   },
   "outputs": [
    {
     "name": "stdout",
     "output_type": "stream",
     "text": [
      "This is Line2\n",
      "\n",
      "This is Line4\n",
      "\n",
      "This is Line6\n",
      "\n",
      "This is Line8\n",
      "\n"
     ]
    }
   ],
   "source": [
    "fh = open(\"test5.txt\")\n",
    "for line in fh:\n",
    "    if line != \"\\n\":\n",
    "        if int(line[-2])%2==0:\n",
    "            print(line)"
   ]
  },
  {
   "cell_type": "markdown",
   "metadata": {},
   "source": [
    "# OS related functions"
   ]
  },
  {
   "cell_type": "code",
   "execution_count": 75,
   "metadata": {
    "ExecuteTime": {
     "end_time": "2020-03-14T05:07:32.222454Z",
     "start_time": "2020-03-14T05:07:32.218041Z"
    }
   },
   "outputs": [],
   "source": [
    "import os"
   ]
  },
  {
   "cell_type": "code",
   "execution_count": 83,
   "metadata": {
    "ExecuteTime": {
     "end_time": "2020-03-14T05:09:21.869498Z",
     "start_time": "2020-03-14T05:09:21.863401Z"
    }
   },
   "outputs": [
    {
     "data": {
      "text/plain": [
       "'C:\\\\'"
      ]
     },
     "execution_count": 83,
     "metadata": {},
     "output_type": "execute_result"
    }
   ],
   "source": [
    "os.getcwd()"
   ]
  },
  {
   "cell_type": "code",
   "execution_count": 79,
   "metadata": {
    "ExecuteTime": {
     "end_time": "2020-03-14T05:08:12.146132Z",
     "start_time": "2020-03-14T05:08:12.141132Z"
    }
   },
   "outputs": [],
   "source": [
    "os.mkdir(\"testFolder1\")"
   ]
  },
  {
   "cell_type": "code",
   "execution_count": 84,
   "metadata": {
    "ExecuteTime": {
     "end_time": "2020-03-14T05:09:26.529387Z",
     "start_time": "2020-03-14T05:09:26.525441Z"
    }
   },
   "outputs": [],
   "source": [
    "os.chdir(\"C:\\\\\")"
   ]
  },
  {
   "cell_type": "code",
   "execution_count": 85,
   "metadata": {
    "ExecuteTime": {
     "end_time": "2020-03-14T05:09:27.538303Z",
     "start_time": "2020-03-14T05:09:27.533302Z"
    }
   },
   "outputs": [
    {
     "data": {
      "text/plain": [
       "'C:\\\\'"
      ]
     },
     "execution_count": 85,
     "metadata": {},
     "output_type": "execute_result"
    }
   ],
   "source": [
    "os.getcwd()"
   ]
  },
  {
   "cell_type": "code",
   "execution_count": 86,
   "metadata": {
    "ExecuteTime": {
     "end_time": "2020-03-14T05:09:47.104834Z",
     "start_time": "2020-03-14T05:09:47.100836Z"
    }
   },
   "outputs": [],
   "source": [
    "os.chdir(r\"D:\\A_From_Desktop\\Py_Test_Program\\14_March\")"
   ]
  },
  {
   "cell_type": "code",
   "execution_count": 87,
   "metadata": {
    "ExecuteTime": {
     "end_time": "2020-03-14T05:09:47.725667Z",
     "start_time": "2020-03-14T05:09:47.720650Z"
    }
   },
   "outputs": [
    {
     "data": {
      "text/plain": [
       "'D:\\\\A_From_Desktop\\\\Py_Test_Program\\\\14_March'"
      ]
     },
     "execution_count": 87,
     "metadata": {},
     "output_type": "execute_result"
    }
   ],
   "source": [
    "os.getcwd()"
   ]
  },
  {
   "cell_type": "code",
   "execution_count": 88,
   "metadata": {
    "ExecuteTime": {
     "end_time": "2020-03-14T05:10:04.438325Z",
     "start_time": "2020-03-14T05:10:04.433742Z"
    }
   },
   "outputs": [],
   "source": [
    "os.rmdir(\"testFolder1/\")"
   ]
  },
  {
   "cell_type": "code",
   "execution_count": 89,
   "metadata": {
    "ExecuteTime": {
     "end_time": "2020-03-14T05:10:53.493574Z",
     "start_time": "2020-03-14T05:10:53.488307Z"
    }
   },
   "outputs": [],
   "source": [
    "# os.remove()"
   ]
  }
 ],
 "metadata": {
  "kernelspec": {
   "display_name": "Python 3",
   "language": "python",
   "name": "python3"
  },
  "language_info": {
   "codemirror_mode": {
    "name": "ipython",
    "version": 3
   },
   "file_extension": ".py",
   "mimetype": "text/x-python",
   "name": "python",
   "nbconvert_exporter": "python",
   "pygments_lexer": "ipython3",
   "version": "3.7.6"
  },
  "latex_envs": {
   "LaTeX_envs_menu_present": true,
   "autoclose": false,
   "autocomplete": true,
   "bibliofile": "biblio.bib",
   "cite_by": "apalike",
   "current_citInitial": 1,
   "eqLabelWithNumbers": true,
   "eqNumInitial": 1,
   "hotkeys": {
    "equation": "Ctrl-E",
    "itemize": "Ctrl-I"
   },
   "labels_anchors": false,
   "latex_user_defs": false,
   "report_style_numbering": false,
   "user_envs_cfg": false
  },
  "toc": {
   "base_numbering": 1,
   "nav_menu": {},
   "number_sections": true,
   "sideBar": true,
   "skip_h1_title": false,
   "title_cell": "Table of Contents",
   "title_sidebar": "Contents",
   "toc_cell": false,
   "toc_position": {},
   "toc_section_display": true,
   "toc_window_display": false
  },
  "varInspector": {
   "cols": {
    "lenName": 16,
    "lenType": 16,
    "lenVar": 40
   },
   "kernels_config": {
    "python": {
     "delete_cmd_postfix": "",
     "delete_cmd_prefix": "del ",
     "library": "var_list.py",
     "varRefreshCmd": "print(var_dic_list())"
    },
    "r": {
     "delete_cmd_postfix": ") ",
     "delete_cmd_prefix": "rm(",
     "library": "var_list.r",
     "varRefreshCmd": "cat(var_dic_list()) "
    }
   },
   "types_to_exclude": [
    "module",
    "function",
    "builtin_function_or_method",
    "instance",
    "_Feature"
   ],
   "window_display": false
  }
 },
 "nbformat": 4,
 "nbformat_minor": 2
}
