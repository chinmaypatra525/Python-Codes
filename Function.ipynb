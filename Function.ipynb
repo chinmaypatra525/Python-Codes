{
 "cells": [
  {
   "cell_type": "markdown",
   "metadata": {},
   "source": [
    "# Python Functions"
   ]
  },
  {
   "cell_type": "markdown",
   "metadata": {},
   "source": [
    "##    Createing a Function"
   ]
  },
  {
   "cell_type": "code",
   "execution_count": 1,
   "metadata": {},
   "outputs": [
    {
     "name": "stdout",
     "output_type": "stream",
     "text": [
      "name is 43 and age is 56\n"
     ]
    }
   ],
   "source": [
    "# 1 how to define function\n",
    "# 2 positional and functional argument\n",
    "\n",
    "def hello(num,age=29): # num is the positional argument and age is the keyword argument\n",
    "    print(\"name is {} and age is {}\".format(num,age))\n",
    "hello(43,56)\n"
   ]
  },
  {
   "cell_type": "code",
   "execution_count": 2,
   "metadata": {},
   "outputs": [
    {
     "name": "stdout",
     "output_type": "stream",
     "text": [
      "(29, 12, 12, 12, 12, 12, 12, 12)\n",
      "{'age': 49}\n"
     ]
    }
   ],
   "source": [
    "#*args and **Kwargs\n",
    "\n",
    "def fun1(*args,**kwargs):  #args = postional argumnet and **kwargs= keyword argumnet\n",
    "    print(args)\n",
    "    print(kwargs)\n",
    "\n",
    "fun1(29,12,12,12,12,12,12,12,age=49)"
   ]
  },
  {
   "cell_type": "markdown",
   "metadata": {},
   "source": [
    "###  "
   ]
  },
  {
   "cell_type": "markdown",
   "metadata": {},
   "source": [
    "## Python Built-in Functions"
   ]
  },
  {
   "cell_type": "markdown",
   "metadata": {},
   "source": [
    "### abs()\n",
    "\n",
    "Returns the absolute value of a number"
   ]
  },
  {
   "cell_type": "code",
   "execution_count": 6,
   "metadata": {},
   "outputs": [
    {
     "name": "stdout",
     "output_type": "stream",
     "text": [
      "Absolute value of -20 is =====> 20\n"
     ]
    }
   ],
   "source": [
    "#Integer Number\n",
    "integer = -20\n",
    "x = abs(integer)\n",
    "print('Absolute value of -20 is =====>',x)"
   ]
  },
  {
   "cell_type": "code",
   "execution_count": 9,
   "metadata": {},
   "outputs": [
    {
     "name": "stdout",
     "output_type": "stream",
     "text": [
      "Absolute value of 37.87 is =====> 37.87\n",
      "Absolute value of -45.87 is =====> 45.87\n"
     ]
    }
   ],
   "source": [
    "#Floating Number\n",
    "Floating1 = 37.87\n",
    "floating2 = -45.87\n",
    "x = abs(Floating1)\n",
    "y = abs(floating2)\n",
    "print('Absolute value of 37.87 is =====>',x)\n",
    "print('Absolute value of -45.87 is =====>',y)"
   ]
  },
  {
   "cell_type": "markdown",
   "metadata": {},
   "source": [
    "### all()\n",
    "\n",
    "Returns True if all items in an iterable object are true\n",
    "\n",
    "Note:- If the iterable object is empty, then all() functions return True."
   ]
  },
  {
   "cell_type": "code",
   "execution_count": 10,
   "metadata": {},
   "outputs": [
    {
     "name": "stdout",
     "output_type": "stream",
     "text": [
      "My list1 is ===>  True\n",
      "My list2 is ===>  False\n",
      "My list3 is ===>  True\n",
      "My list4 is ===>  True\n",
      "My mytuple is ===>  False\n",
      "My myset is ===>  True\n"
     ]
    }
   ],
   "source": [
    "mylist1 = [True, True, True]\n",
    "mylist2 = [1, 0, 2]\n",
    "mylist3 = [1, 2, 3]\n",
    "mylist4 = []\n",
    "mytuple = (0, True, False)\n",
    "myset = {2, 5, 5}\n",
    "\n",
    "print('My list1 is ===> ',all(mylist1))\n",
    "print('My list2 is ===> ',all(mylist2))\n",
    "print('My list3 is ===> ',all(mylist3))\n",
    "print('My list4 is ===> ',all(mylist4))\n",
    "print('My mytuple is ===> ',all(mytuple))\n",
    "print('My myset is ===> ',all(myset))"
   ]
  },
  {
   "cell_type": "markdown",
   "metadata": {},
   "source": [
    "### any()\n",
    "\n",
    "Returns True if any item in an iterable object is true"
   ]
  },
  {
   "cell_type": "code",
   "execution_count": 16,
   "metadata": {},
   "outputs": [
    {
     "name": "stdout",
     "output_type": "stream",
     "text": [
      "True\n"
     ]
    }
   ],
   "source": [
    "x = [4,3,2,0]\n",
    "print(any(x))"
   ]
  },
  {
   "cell_type": "code",
   "execution_count": 17,
   "metadata": {},
   "outputs": [
    {
     "name": "stdout",
     "output_type": "stream",
     "text": [
      "False\n"
     ]
    }
   ],
   "source": [
    "x = [0,False]\n",
    "print(any(x))"
   ]
  },
  {
   "cell_type": "code",
   "execution_count": 18,
   "metadata": {},
   "outputs": [
    {
     "name": "stdout",
     "output_type": "stream",
     "text": [
      "True\n"
     ]
    }
   ],
   "source": [
    "x = [0,False,6]\n",
    "print(any(x))"
   ]
  },
  {
   "cell_type": "code",
   "execution_count": 19,
   "metadata": {},
   "outputs": [
    {
     "name": "stdout",
     "output_type": "stream",
     "text": [
      "False\n"
     ]
    }
   ],
   "source": [
    "x = []\n",
    "print(any(x))"
   ]
  },
  {
   "cell_type": "markdown",
   "metadata": {},
   "source": [
    "### bin()\n",
    "\n",
    "Returns the binary version of a number.\n",
    "  \n",
    "Result always starts with prefix 0b."
   ]
  },
  {
   "cell_type": "code",
   "execution_count": 11,
   "metadata": {},
   "outputs": [
    {
     "name": "stdout",
     "output_type": "stream",
     "text": [
      "0b1010\n",
      "-0b10100\n"
     ]
    }
   ],
   "source": [
    "x = 10\n",
    "bin1 = bin(x)\n",
    "\n",
    "y = -20\n",
    "bin2 = bin(y)\n",
    "\n",
    "print(bin1)\n",
    "print(bin2)"
   ]
  },
  {
   "cell_type": "markdown",
   "metadata": {},
   "source": [
    "### bool()\n",
    "\n",
    "Returns the boolean value of the specified object"
   ]
  },
  {
   "cell_type": "code",
   "execution_count": 12,
   "metadata": {},
   "outputs": [
    {
     "name": "stdout",
     "output_type": "stream",
     "text": [
      "[]  is  False\n",
      "[0]  is  True\n",
      "0  is  False\n",
      "0.0  is  False\n",
      "None  is  False\n",
      "True  is  True\n",
      "String Value  is  True\n"
     ]
    }
   ],
   "source": [
    "value = []\n",
    "print(value,' is ',bool(value))\n",
    "\n",
    "value = [0]\n",
    "print(value,' is ',bool(value))\n",
    "\n",
    "value = 0\n",
    "print(value,' is ',bool(value))\n",
    "\n",
    "value = 0.0\n",
    "print(value,' is ',bool(value))\n",
    "\n",
    "value = None\n",
    "print(value,' is ',bool(value))\n",
    "\n",
    "value = True\n",
    "print(value,' is ',bool(value))\n",
    "\n",
    "value = \"String Value\"\n",
    "print(value,' is ',bool(value))"
   ]
  },
  {
   "cell_type": "markdown",
   "metadata": {},
   "source": [
    "### sum()\n",
    "\n",
    "\n",
    "Sums the items of an iterator"
   ]
  },
  {
   "cell_type": "code",
   "execution_count": 13,
   "metadata": {},
   "outputs": [
    {
     "data": {
      "text/plain": [
       "18"
      ]
     },
     "execution_count": 13,
     "metadata": {},
     "output_type": "execute_result"
    }
   ],
   "source": [
    "obj = [2,5,5,6]\n",
    "s = sum(obj)\n",
    "s"
   ]
  },
  {
   "cell_type": "code",
   "execution_count": 14,
   "metadata": {},
   "outputs": [
    {
     "data": {
      "text/plain": [
       "18"
      ]
     },
     "execution_count": 14,
     "metadata": {},
     "output_type": "execute_result"
    }
   ],
   "source": [
    "obj = (2,5,5,6)\n",
    "s = sum(obj)\n",
    "s"
   ]
  },
  {
   "cell_type": "code",
   "execution_count": 15,
   "metadata": {},
   "outputs": [
    {
     "data": {
      "text/plain": [
       "13"
      ]
     },
     "execution_count": 15,
     "metadata": {},
     "output_type": "execute_result"
    }
   ],
   "source": [
    "obj = {2,5,5,6}\n",
    "s = sum(obj)\n",
    "s"
   ]
  },
  {
   "cell_type": "markdown",
   "metadata": {},
   "source": [
    "### format()"
   ]
  },
  {
   "cell_type": "markdown",
   "metadata": {},
   "source": [
    "##### Formats a specified value\n",
    "\n",
    "format\tThe format you want to format the value into.\n",
    "Legal values:\n",
    "'<' - Left aligns the result (within the available space)\n",
    "\n",
    "'>' - Right aligns the result (within the available space)\n",
    "\n",
    "'^' - Center aligns the result (within the available space)\n",
    "\n",
    "'=' - Places the sign to the left most position\n",
    "\n",
    "'+' - Use a plus sign to indicate if the result is positive or negative\n",
    "\n",
    "'-' - Use a minus sign for negative values only\n",
    "\n",
    "' ' - Use a leading space for positive numbers\n",
    "\n",
    "',' - Use a comma as a thousand separator\n",
    "\n",
    "'_' - Use a underscore as a thousand separator\n",
    "\n",
    "'b' - Binary format\n",
    "\n",
    "'c' - Converts the value into the corresponding unicode character\n",
    "\n",
    "'d' - Decimal format\n",
    "\n",
    "'e' - Scientific format, with a lower case e\n",
    "\n",
    "'E' - Scientific format, with an upper case E\n",
    "\n",
    "'f' - Fix point number format\n",
    "\n",
    "'F' - Fix point number format, upper case\n",
    "\n",
    "'g' - General format\n",
    "\n",
    "'G' - General format (using a upper case E for scientific notations)\n",
    "\n",
    "'o' - Octal format\n",
    "\n",
    "'x' - Hex format, lower case\n",
    "\n",
    "'X' - Hex format, upper case\n",
    "\n",
    "'n' - Number format\n",
    "\n",
    "'%' - Percentage format"
   ]
  },
  {
   "cell_type": "code",
   "execution_count": 22,
   "metadata": {},
   "outputs": [
    {
     "name": "stdout",
     "output_type": "stream",
     "text": [
      "124\n"
     ]
    }
   ],
   "source": [
    "#integer\n",
    "print(format(124,\"d\"))"
   ]
  },
  {
   "cell_type": "code",
   "execution_count": 23,
   "metadata": {},
   "outputs": [
    {
     "name": "stdout",
     "output_type": "stream",
     "text": [
      "124.567000\n"
     ]
    }
   ],
   "source": [
    "#float argument \n",
    "print(format(124.567,\"f\"))"
   ]
  },
  {
   "cell_type": "code",
   "execution_count": 24,
   "metadata": {},
   "outputs": [
    {
     "name": "stdout",
     "output_type": "stream",
     "text": [
      "1111100\n"
     ]
    }
   ],
   "source": [
    "#binary format\n",
    "print(format(124,\"b\"))"
   ]
  },
  {
   "cell_type": "markdown",
   "metadata": {},
   "source": [
    "### len()\n",
    "\n",
    "Returns the length of an object"
   ]
  },
  {
   "cell_type": "code",
   "execution_count": 25,
   "metadata": {},
   "outputs": [
    {
     "data": {
      "text/plain": [
       "13"
      ]
     },
     "execution_count": 25,
     "metadata": {},
     "output_type": "execute_result"
    }
   ],
   "source": [
    "str = \"Python Object\"\n",
    "len(str)"
   ]
  },
  {
   "cell_type": "code",
   "execution_count": 27,
   "metadata": {},
   "outputs": [
    {
     "data": {
      "text/plain": [
       "5"
      ]
     },
     "execution_count": 27,
     "metadata": {},
     "output_type": "execute_result"
    }
   ],
   "source": [
    "list = [24,38,98,22,[34,87]]\n",
    "len(list)"
   ]
  },
  {
   "cell_type": "code",
   "execution_count": null,
   "metadata": {},
   "outputs": [],
   "source": []
  },
  {
   "cell_type": "code",
   "execution_count": null,
   "metadata": {},
   "outputs": [],
   "source": []
  },
  {
   "cell_type": "code",
   "execution_count": null,
   "metadata": {},
   "outputs": [],
   "source": []
  },
  {
   "cell_type": "code",
   "execution_count": null,
   "metadata": {},
   "outputs": [],
   "source": []
  },
  {
   "cell_type": "code",
   "execution_count": null,
   "metadata": {},
   "outputs": [],
   "source": []
  }
 ],
 "metadata": {
  "kernelspec": {
   "display_name": "Python 3",
   "language": "python",
   "name": "python3"
  },
  "language_info": {
   "codemirror_mode": {
    "name": "ipython",
    "version": 3
   },
   "file_extension": ".py",
   "mimetype": "text/x-python",
   "name": "python",
   "nbconvert_exporter": "python",
   "pygments_lexer": "ipython3",
   "version": "3.7.6"
  }
 },
 "nbformat": 4,
 "nbformat_minor": 4
}
